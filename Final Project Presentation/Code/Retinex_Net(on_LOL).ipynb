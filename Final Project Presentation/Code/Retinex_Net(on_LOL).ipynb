{
  "cells": [
    {
      "cell_type": "markdown",
      "metadata": {
        "id": "MV0XXutbNTMB"
      },
      "source": [
        "# Retinex-Net 用於低光度影像增強(low-light image enhancement)\n",
        "\n",
        "**參考:** [weichen582](https://github.com/weichen582/RetinexNet)<br>\n",
        "**說明與修改:** [黃皓偉](https://github.com/HuangHW012/110_02_Structural-Machine-Learning-Models-and-Their-Applications)<br>\n",
        "**修改時間:** 2022/06/12<br>\n",
        "\n",
        "**Description:** 實作Retinex-Net"
      ]
    },
    {
      "cell_type": "markdown",
      "metadata": {
        "id": "EBtbBjfNNTMG"
      },
      "source": [
        "## 簡要說明\n",
        "\n",
        "# **Retinex-Net** <br>\n",
        "1. 類型: Supervised Learning <br>\n",
        "2. 特色: 使用Retinex Theory理論，達到低光度影像之增強 (傳統理論搭配機器學習)機器學習) <br>\n",
        "3. Retinex Theory理論: $S(x) = R(x) * I(x)$ <br>\n",
        "5. 請注意，本論文需要有正常(高光度)影像作為訓練參考! \n",
        "\n",
        "### References\n",
        "\n",
        "- [Deep Retinex Decomposition for Low-Light Enhancement](https://arxiv.org/abs/1808.04560)\n",
        "- [A Tensorflow implementation of RetinexNet (TF 1.X)](https://github.com/weichen582/RetinexNet)"
      ]
    },
    {
      "cell_type": "markdown",
      "metadata": {
        "id": "BzaiV3u8NTMJ"
      },
      "source": [
        "## 下載 LOLDataset\n",
        "\n",
        "# **LoL Dataset** (paired data)<br>\n",
        "1. Training set (our485): low light + high light <br>\n",
        "2. Test set (eval15): low light + high light <br>\n",
        "\n",
        "※ 請注意，訓練Retinex-Net模型需要paired fata"
      ]
    },
    {
      "cell_type": "code",
      "source": [
        "# 從Google雲端下載資料集\n",
        "!gdown https://drive.google.com/uc?id=1DdGIJ4PZPlF2ikl8mNM9V-PdVxVLbQi6\n",
        "!unzip -q lol_dataset.zip"
      ],
      "metadata": {
        "colab": {
          "base_uri": "https://localhost:8080/"
        },
        "id": "OVBd6MAgxfal",
        "outputId": "f35a9eb7-7018-4365-d6b2-d305a3db1af2"
      },
      "execution_count": null,
      "outputs": [
        {
          "output_type": "stream",
          "name": "stdout",
          "text": [
            "Downloading...\n",
            "From: https://drive.google.com/uc?id=1DdGIJ4PZPlF2ikl8mNM9V-PdVxVLbQi6\n",
            "To: /content/lol_dataset.zip\n",
            "100% 347M/347M [00:01<00:00, 245MB/s]\n"
          ]
        }
      ]
    },
    {
      "cell_type": "code",
      "execution_count": null,
      "metadata": {
        "id": "x71FTxSpNTML"
      },
      "outputs": [],
      "source": [
        "# 匯入必要函式庫\n",
        "import os\n",
        "import random\n",
        "import numpy as np\n",
        "from glob import glob\n",
        "from PIL import Image, ImageOps\n",
        "import matplotlib.pyplot as plt\n",
        "\n",
        "import tensorflow as tf\n",
        "from tensorflow import keras\n",
        "from tensorflow.keras import layers"
      ]
    },
    {
      "cell_type": "markdown",
      "metadata": {
        "id": "q61se4T6NTMN"
      },
      "source": [
        "## 實驗設定\n",
        "1. Resize image to 256 X 256 (RGB channel) <br>\n",
        "2. Preprocessing : [0, 255] -> [0, 1] <br>\n",
        "3. Batch size: 8 <br>\n",
        "4. Epochs : 100 <br>\n",
        "5. Optimizer : Adam (learning rate = 0.0002) <br>"
      ]
    },
    {
      "cell_type": "code",
      "execution_count": null,
      "metadata": {
        "colab": {
          "base_uri": "https://localhost:8080/"
        },
        "id": "G-dkOEewNTMO",
        "outputId": "df7c9f1b-f57e-42a2-aba1-90ec4c022f61"
      },
      "outputs": [
        {
          "output_type": "stream",
          "name": "stdout",
          "text": [
            "Train Dataset (low light): <BatchDataset element_spec=TensorSpec(shape=(16, 256, 256, 3), dtype=tf.float32, name=None)>\n",
            "Train Dataset (high light): <BatchDataset element_spec=TensorSpec(shape=(16, 256, 256, 3), dtype=tf.float32, name=None)>\n"
          ]
        }
      ],
      "source": [
        "IMAGE_SIZE = 256\n",
        "BATCH_SIZE = 8\n",
        "MAX_TRAIN_IMAGES = 350\n",
        "\n",
        "# 預處理資料集，主要將影像範圍限縮至[0. 1]，作者使用其他方法限縮範圍，我僅全體/255.0\n",
        "def load_data(image_path):\n",
        "    image = tf.io.read_file(image_path)\n",
        "    image = tf.image.decode_png(image, channels=3)\n",
        "    image = tf.image.resize(images=image, size=[IMAGE_SIZE, IMAGE_SIZE])\n",
        "    image = image / 255.0\n",
        "    #image = (image / 127.5) - 1.0\n",
        "    return image\n",
        "# 為了後續方便訓練，先將事先準備好的資料集依照設定Batch切割，可以查看shape\n",
        "def data_generator(light_images):\n",
        "    dataset = tf.data.Dataset.from_tensor_slices((light_images))\n",
        "    # 套用load_data()函式\n",
        "    dataset = dataset.map(load_data, num_parallel_calls=tf.data.AUTOTUNE)\n",
        "    # 依照Batch切割原始資料集\n",
        "    dataset = dataset.batch(BATCH_SIZE, drop_remainder=True)\n",
        "    return dataset\n",
        "\n",
        "# 將資料集劃分low與high光照[訓練]集\n",
        "train_low_light_images = sorted(glob(\"./lol_dataset/our485/low/*\"))[:MAX_TRAIN_IMAGES]\n",
        "train_high_light_images = sorted(glob(\"./lol_dataset/our485/high/*\"))[:MAX_TRAIN_IMAGES]\n",
        "# 將資料集劃分low與high光照[驗證]集\n",
        "val_low_light_images = sorted(glob(\"./lol_dataset/our485/low/*\"))[MAX_TRAIN_IMAGES:]\n",
        "val_high_light_images = sorted(glob(\"./lol_dataset/our485/high/*\"))[MAX_TRAIN_IMAGES:]\n",
        "# 將資料集劃分low與high光照[測試]集\n",
        "test_low_light_images = sorted(glob(\"./lol_dataset/eval15/low/*\"))\n",
        "test_high_light_images = sorted(glob(\"./lol_dataset/eval15/high/*\"))\n",
        "\n",
        "\n",
        "# 產生Tensorflow之資料集格式\n",
        "train_low_light_dataset = data_generator(train_low_light_images)\n",
        "train_high_light_dataset = data_generator(train_high_light_images)\n",
        "\n",
        "val_low_light_dataset = data_generator(val_low_light_images)\n",
        "val_high_light_dataset = data_generator(val_high_light_images)\n",
        "\n",
        "test_low_light_dataset = data_generator(test_low_light_images)\n",
        "test_high_light_dataset = data_generator(test_high_light_images)\n",
        "\n",
        "\n",
        "print(\"Train Dataset (low light):\", train_low_light_dataset)\n",
        "print(\"Train Dataset (high light):\", train_high_light_dataset)"
      ]
    },
    {
      "cell_type": "markdown",
      "metadata": {
        "id": "IzmudHKkNTMP"
      },
      "source": [
        "## Retinex-Net 架構\n",
        "\n",
        "![](https://pic2.zhimg.com/80/v2-0e94f8cc619bbb6a8a679d9d79b6a671_720w.jpg)\n"
      ]
    },
    {
      "cell_type": "code",
      "source": [
        "def concat(layers):\n",
        "    return tf.concat(layers, axis=3)"
      ],
      "metadata": {
        "id": "kG1uK_lg67n9"
      },
      "execution_count": null,
      "outputs": []
    },
    {
      "cell_type": "code",
      "source": [
        "def DecomNet(layer_num = 5, channel = 64, kernel_size = 3):\n",
        "    input_im = keras.Input(shape=[None, None, 2], name = \"input_im\")\n",
        "\n",
        "    input_max = tf.reduce_max(input_im, axis=3, keepdims=True)\n",
        "    input_im = concat([input_max, input_im])\n",
        "    conv = tf.keras.layers.Conv2D(channel, kernel_size * 3, padding='same', activation=None, name=\"shallow_feature_extraction\")(input_im)\n",
        "    for idx in range(layer_num):\n",
        "        conv = tf.keras.layers.Conv2D(channel, kernel_size, padding='same', activation=\"relu\", name='activated_layer_%d' % idx)(conv)\n",
        "    conv = tf.keras.layers.Conv2D(4, kernel_size, padding='same', activation=None, name='recon_layer')(conv)\n",
        "\n",
        "    R = tf.sigmoid(conv[:,:,:,0:3])\n",
        "    L = tf.sigmoid(conv[:,:,:,3:4])\n",
        "\n",
        "    return keras.models.Model(inputs=input_im, outputs=[R, L], name='DecomNet') "
      ],
      "metadata": {
        "id": "bmUZ_xSQYbMh"
      },
      "execution_count": null,
      "outputs": []
    },
    {
      "cell_type": "code",
      "source": [
        "def RelightNet(channel=64, kernel_size=3):\n",
        "    input_L = keras.Input(shape=[None, None, 1], name = \"input_L\")\n",
        "    input_R = keras.Input(shape=[None, None, 3], name = \"input_R\")\n",
        "\n",
        "    input_im = concat([input_R, input_L])\n",
        "    \n",
        "    conv0 = tf.keras.layers.Conv2D(channel, (kernel_size, kernel_size), padding='same', activation=None)(input_im)\n",
        "    conv1 = tf.keras.layers.Conv2D(channel, (kernel_size, kernel_size), strides=2, padding='same', activation=\"relu\")(conv0)\n",
        "    conv2 = tf.keras.layers.Conv2D(channel, (kernel_size, kernel_size), strides=2, padding='same', activation=\"relu\")(conv1)\n",
        "    conv3 = tf.keras.layers.Conv2D(channel, (kernel_size, kernel_size), strides=2, padding='same', activation=\"relu\")(conv2)\n",
        "        \n",
        "    up1 = tf.image.resize(conv3, [tf.shape(conv2)[1], tf.shape(conv2)[2]], method = 'nearest')\n",
        "    deconv1 = tf.keras.layers.Conv2D(channel, (kernel_size, kernel_size), padding='same', activation=\"relu\")(up1) + conv2\n",
        "    #https://www.tensorflow.org/api_docs/python/tf/image/resize\n",
        "    up2 = tf.image.resize(deconv1, [tf.shape(conv1)[1], tf.shape(conv1)[2]], method = 'nearest')\n",
        "    deconv2= tf.keras.layers.Conv2D(channel, (kernel_size, kernel_size), padding='same', activation=\"relu\")(up2) + conv1\n",
        "    up3 = tf.image.resize(deconv2,[tf.shape(conv0)[1], tf.shape(conv0)[2]], method = 'nearest')\n",
        "    deconv3 = tf.keras.layers.Conv2D(channel, (kernel_size, kernel_size), padding='same', activation=\"relu\")(up3) + conv0\n",
        "        \n",
        "    deconv1_resize = tf.image.resize(deconv1, [tf.shape(deconv3)[1], tf.shape(deconv3)[2]], method = 'nearest')\n",
        "    deconv2_resize = tf.image.resize(deconv2, [tf.shape(deconv3)[1], tf.shape(deconv3)[2]], method = 'nearest')\n",
        "    feature_gather = concat([deconv1_resize, deconv2_resize, deconv3])\n",
        "    feature_fusion = tf.keras.layers.Conv2D(channel, 1, padding='same', activation=None)(feature_gather)\n",
        "    output = tf.keras.layers.Conv2D(1, 3, padding='same', activation=None)(feature_fusion)\n",
        "\n",
        "    return keras.models.Model(inputs=[input_L, input_R], outputs=output, name='RelightNet')  "
      ],
      "metadata": {
        "id": "tiwzAD8dYmhB"
      },
      "execution_count": null,
      "outputs": []
    },
    {
      "cell_type": "code",
      "execution_count": null,
      "metadata": {
        "id": "04gr2hfSNTMR"
      },
      "outputs": [],
      "source": [
        "def build_RetinexNet():\n",
        "    DecomNet_layer_num = 5\n",
        "    input_img_low = keras.Input(shape=[None, None, 3])\n",
        "    input_img_high = keras.Input(shape=[None, None, 3])\n",
        "\n",
        "    [R_low, I_low] = DecomNet(input_img_low, layer_num=DecomNet_layer_num)\n",
        "    [R_high, I_high] = DecomNet(input_img_high, layer_num=DecomNet_layer_num)\n",
        "\n",
        "\n",
        "    I_delta = RelightNet(I_low, R_low)\n",
        "\n",
        "    I_low_3 = concat([I_low, I_low, I_low])\n",
        "    I_high_3 = concat([I_high, I_high, I_high])\n",
        "    I_delta_3 = concat([I_delta, I_delta, I_delta])\n",
        "\n",
        "    S = R_low * I_delta_3\n",
        "\n",
        "    return keras.Model(inputs=[input_img_low, input_img_high], outputs=[R_low, I_low, R_high, I_high, I_delta, I_low_3, I_high_3, I_delta_3, S])"
      ]
    },
    {
      "cell_type": "markdown",
      "metadata": {
        "id": "MPzS8zy3NTMT"
      },
      "source": [
        "## Loss functions\n",
        "\n",
        "##主要分成3種loss##\n",
        "1. Reconstruction Loss ($ℒ_{recon}$) <br>\n",
        "2. Illumination Smoothness Loss ($ℒ_{is}$) <br>\n",
        "3. Invariable Reflectance Loss ($ℒ_{ir}$) <br>"
      ]
    },
    {
      "cell_type": "markdown",
      "metadata": {
        "id": "cltER0wlNTMh"
      },
      "source": [
        "### 搭建RetinexNet"
      ]
    },
    {
      "cell_type": "code",
      "execution_count": null,
      "metadata": {
        "id": "bK_pkTWGNTMi"
      },
      "outputs": [],
      "source": [
        "class RetinexNet(keras.Model):\n",
        "    def __init__(self, decom_net, relight_net):\n",
        "        super(RetinexNet, self).__init__()\n",
        "        # 請注意，本論文共要訓練2個模型!\n",
        "        self.decom_net = decom_net\n",
        "        self.relight_net = relight_net\n",
        "\n",
        "    def compile(self, decom_net_optimizer, relight_net_optimizer):\n",
        "        super(RetinexNet, self).compile()\n",
        "        # 各自的模型搭配所需的optimizer\n",
        "        self.decom_net_optimizer = decom_net_optimizer\n",
        "        self.relight_net_optimizer = relight_net_optimizer\n",
        "    # 用於model.fit\n",
        "    def call(self, input_low_light):\n",
        "        [R_low, I_low] = self.decom_net(input_low_light)\n",
        "        I_low_3 = concat([I_low, I_low, I_low])\n",
        "        I_delta = self.relight_net([I_low, R_low])\n",
        "        I_delta_3 = concat([I_delta, I_delta, I_delta])\n",
        "\n",
        "        output_R_low = R_low\n",
        "        output_I_low = I_low_3\n",
        "        output_I_delta = I_delta_3\n",
        "        output_S = R_low * I_delta_3\n",
        "        # S是主要的結果\n",
        "        return [output_R_low, output_I_low, output_I_delta, output_S]\n",
        "    # 計算梯度\n",
        "    def gradient(self, input_tensor, direction):\n",
        "        self.smooth_kernel_x = tf.reshape(tf.constant([[0, 0], [-1, 1]], tf.float32), [2, 2, 1, 1])\n",
        "        self.smooth_kernel_y = tf.transpose(self.smooth_kernel_x, [1, 0, 2, 3])\n",
        "\n",
        "        if direction == \"x\":\n",
        "            kernel = self.smooth_kernel_x\n",
        "        elif direction == \"y\":\n",
        "            kernel = self.smooth_kernel_y\n",
        "        return tf.abs(tf.nn.conv2d(input_tensor, kernel, strides=[1, 1, 1, 1], padding='SAME'))\n",
        "    # 計算區域內的平均梯度\n",
        "    def ave_gradient(self, input_tensor, direction):\n",
        "        return tf.keras.layers.AveragePooling2D(pool_size=3, strides=1, padding='SAME')(self.gradient(input_tensor, direction))\n",
        "    # 計算Illumination Smoothness Loss\n",
        "    def smooth(self, input_I, input_R):\n",
        "        input_R = tf.image.rgb_to_grayscale(input_R)\n",
        "        return tf.reduce_mean(self.gradient(input_I, \"x\") * tf.exp(-10 * self.ave_gradient(input_R, \"x\")) + self.gradient(input_I, \"y\") * tf.exp(-10 * self.ave_gradient(input_R, \"y\")))\n",
        "    # 計算loss\n",
        "    def compute_losses(self, input_low, input_high, output):\n",
        "        R_low, I_low, R_high, I_high, I_delta, I_low_3, I_high_3, I_delta_3, S = output\n",
        "        # 計算Reconstruction Loss\n",
        "        recon_loss_low = tf.reduce_mean(tf.abs(R_low * I_low_3 -  input_low))\n",
        "        recon_loss_high = tf.reduce_mean(tf.abs(R_high * I_high_3 - input_high))\n",
        "        recon_loss_mutal_low = tf.reduce_mean(tf.abs(R_high * I_low_3 - input_low))\n",
        "        recon_loss_mutal_high = tf.reduce_mean(tf.abs(R_low * I_high_3 - input_high))\n",
        "        # 計算Illumination Smoothness Loss\n",
        "        Ismooth_loss_low = self.smooth(I_low, R_low)\n",
        "        Ismooth_loss_high = self.smooth(I_high, R_high)\n",
        "        Ismooth_loss_delta = self.smooth(I_delta, R_low)\n",
        "        #計算Invariable Reflectance Loss\n",
        "        equal_R_loss = tf.reduce_mean(tf.abs(R_low - R_high))\n",
        "        #計算Reconstruction Loss\n",
        "        relight_loss = tf.reduce_mean(tf.abs(R_low * I_delta_3 - input_high))\n",
        "        \n",
        "\n",
        "        loss_Decom = recon_loss_low + recon_loss_high + 0.001 * recon_loss_mutal_low + 0.001 * recon_loss_mutal_high + 0.1 * Ismooth_loss_low + 0.1 * Ismooth_loss_high + 0.01 * equal_R_loss\n",
        "        loss_Relight = relight_loss + 3 * Ismooth_loss_delta\n",
        "\n",
        "        return {\n",
        "            \"loss_Decom\": loss_Decom,\n",
        "            \"loss_Relight\": loss_Relight,\n",
        "        }\n",
        "    # 訓練階段\n",
        "    def train_step(self, batch_data):\n",
        "        low_light_data, high_light_data = batch_data\n",
        "        #先計算梯度 (Forward Propagation)\n",
        "        with tf.GradientTape(persistent=True) as tape:\n",
        "\n",
        "            [R_low, I_low] = self.decom_net(low_light_data)   #DecomNet_layer_num = 5\n",
        "            [R_high, I_high] = self.decom_net(high_light_data)  #DecomNet_layer_num = 5\n",
        "            I_delta = self.relight_net([I_low, R_low])\n",
        "\n",
        "            I_low_3 = concat([I_low, I_low, I_low])\n",
        "            I_high_3 = concat([I_high, I_high, I_high])\n",
        "            I_delta_3 = concat([I_delta, I_delta, I_delta])\n",
        "            S = R_low * I_delta_3\n",
        "            output = [R_low, I_low, R_high, I_high, I_delta, I_low_3, I_high_3, I_delta_3, S]\n",
        "\n",
        "            losses = self.compute_losses(low_light_data, high_light_data, output)\n",
        "\n",
        "        grads_Decom = tape.gradient(losses[\"loss_Decom\"], self.decom_net.trainable_weights)\n",
        "        grads_Relight = tape.gradient(losses[\"loss_Relight\"], self.relight_net.trainable_weights)\n",
        "        #再更新Decom-Net與Enhance-Net的權重 (Back Propagation)\n",
        "        self.optimizer.apply_gradients(zip(grads_Decom, self.decom_net.trainable_weights))\n",
        "        self.optimizer.apply_gradients(zip(grads_Relight, self.relight_net.trainable_weights))\n",
        "        \n",
        "        return losses\n",
        "    # 驗證階段\n",
        "    def test_step(self, batch_data):\n",
        "        low_light_data, high_light_data = batch_data\n",
        "        \n",
        "        [R_low, I_low] = self.decom_net(low_light_data)\n",
        "        [R_high, I_high] = self.decom_net(high_light_data)\n",
        "        I_delta = self.relight_net([I_low, R_low])\n",
        "\n",
        "        I_low_3 = concat([I_low, I_low, I_low])\n",
        "        I_high_3 = concat([I_high, I_high, I_high])\n",
        "        I_delta_3 = concat([I_delta, I_delta, I_delta])\n",
        "        S = R_low * I_delta_3\n",
        "        output = [R_low, I_low, R_high, I_high, I_delta, I_low_3, I_high_3, I_delta_3, S]\n",
        "        return self.compute_losses(low_light_data, high_light_data, output)\n",
        "    # 儲存訓練好的權重\n",
        "    def save_weights(self, filepath, overwrite=True, save_format=None, options=None):\n",
        "        \"\"\"While saving the weights, we simply save the weights of the DCE-Net\"\"\"\n",
        "        self.decom_net.save_weights(\n",
        "            filepath, overwrite=overwrite, save_format=save_format, options=options\n",
        "        )\n",
        "        self.relight_net.save_weights(\n",
        "            filepath, overwrite=overwrite, save_format=save_format, options=options\n",
        "        )\n",
        "    # 載入訓練好的權重\n",
        "    def load_weights(self, filepath, by_name=False, skip_mismatch=False, options=None):\n",
        "        \"\"\"While loading the weights, we simply load the weights of the DCE-Net\"\"\"\n",
        "        self.decom_net.load_weights(\n",
        "            filepath=filepath,\n",
        "            by_name=by_name,\n",
        "            skip_mismatch=skip_mismatch,\n",
        "            options=options,\n",
        "        )\n",
        "        self.relight_net.load_weights(\n",
        "            filepath=filepath,\n",
        "            by_name=by_name,\n",
        "            skip_mismatch=skip_mismatch,\n",
        "            options=options,\n",
        "        )\n"
      ]
    },
    {
      "cell_type": "markdown",
      "metadata": {
        "id": "-vd2fVXFNTMi"
      },
      "source": [
        "## 訓練"
      ]
    },
    {
      "cell_type": "code",
      "execution_count": null,
      "metadata": {
        "colab": {
          "base_uri": "https://localhost:8080/"
        },
        "id": "NGKVt347NTMj",
        "outputId": "320734a8-cadd-4cc6-d94a-6c99d8b4ebe5"
      },
      "outputs": [
        {
          "output_type": "stream",
          "name": "stdout",
          "text": [
            "Epoch 1/50\n",
            "25/25 [==============================] - 33s 1s/step - loss_Decom: 0.4147 - loss_Relight: 0.3762 - val_loss_Decom: 0.5703 - val_loss_Relight: 0.4765\n",
            "Epoch 2/50\n",
            "25/25 [==============================] - 28s 1s/step - loss_Decom: 0.2932 - loss_Relight: 0.3908 - val_loss_Decom: 0.1267 - val_loss_Relight: 0.2700\n",
            "Epoch 3/50\n",
            "25/25 [==============================] - 27s 1s/step - loss_Decom: 0.1842 - loss_Relight: 0.2623 - val_loss_Decom: 0.2539 - val_loss_Relight: 0.2635\n",
            "Epoch 4/50\n",
            "25/25 [==============================] - 27s 1s/step - loss_Decom: 0.1717 - loss_Relight: 0.2009 - val_loss_Decom: 0.1072 - val_loss_Relight: 0.1823\n",
            "Epoch 5/50\n",
            "25/25 [==============================] - 27s 1s/step - loss_Decom: 0.1651 - loss_Relight: 0.2003 - val_loss_Decom: 0.2209 - val_loss_Relight: 0.2493\n",
            "Epoch 6/50\n",
            "25/25 [==============================] - 27s 1s/step - loss_Decom: 0.1372 - loss_Relight: 0.2015 - val_loss_Decom: 0.1294 - val_loss_Relight: 0.1953\n",
            "Epoch 7/50\n",
            "25/25 [==============================] - 27s 1s/step - loss_Decom: 0.1406 - loss_Relight: 0.2036 - val_loss_Decom: 0.1014 - val_loss_Relight: 0.1867\n",
            "Epoch 8/50\n",
            "25/25 [==============================] - 27s 1s/step - loss_Decom: 0.1265 - loss_Relight: 0.2041 - val_loss_Decom: 0.1521 - val_loss_Relight: 0.2240\n",
            "Epoch 9/50\n",
            "25/25 [==============================] - 27s 1s/step - loss_Decom: 0.1161 - loss_Relight: 0.2003 - val_loss_Decom: 0.0803 - val_loss_Relight: 0.1813\n",
            "Epoch 10/50\n",
            "25/25 [==============================] - 27s 1s/step - loss_Decom: 0.1157 - loss_Relight: 0.2024 - val_loss_Decom: 0.1785 - val_loss_Relight: 0.2269\n",
            "Epoch 11/50\n",
            "25/25 [==============================] - 28s 1s/step - loss_Decom: 0.1125 - loss_Relight: 0.1924 - val_loss_Decom: 0.1039 - val_loss_Relight: 0.1893\n",
            "Epoch 12/50\n",
            "25/25 [==============================] - 27s 1s/step - loss_Decom: 0.1145 - loss_Relight: 0.1887 - val_loss_Decom: 0.0622 - val_loss_Relight: 0.1863\n",
            "Epoch 13/50\n",
            "25/25 [==============================] - 27s 1s/step - loss_Decom: 0.1035 - loss_Relight: 0.1893 - val_loss_Decom: 0.1612 - val_loss_Relight: 0.2155\n",
            "Epoch 14/50\n",
            "25/25 [==============================] - 27s 1s/step - loss_Decom: 0.1040 - loss_Relight: 0.1871 - val_loss_Decom: 0.0686 - val_loss_Relight: 0.1890\n",
            "Epoch 15/50\n",
            "25/25 [==============================] - 27s 1s/step - loss_Decom: 0.1142 - loss_Relight: 0.1837 - val_loss_Decom: 0.0613 - val_loss_Relight: 0.1827\n",
            "Epoch 16/50\n",
            "25/25 [==============================] - 27s 1s/step - loss_Decom: 0.0995 - loss_Relight: 0.1975 - val_loss_Decom: 0.1226 - val_loss_Relight: 0.2070\n",
            "Epoch 17/50\n",
            "25/25 [==============================] - 28s 1s/step - loss_Decom: 0.0990 - loss_Relight: 0.1826 - val_loss_Decom: 0.0747 - val_loss_Relight: 0.1881\n",
            "Epoch 18/50\n",
            "25/25 [==============================] - 27s 1s/step - loss_Decom: 0.0944 - loss_Relight: 0.1837 - val_loss_Decom: 0.0593 - val_loss_Relight: 0.1749\n",
            "Epoch 19/50\n",
            "25/25 [==============================] - 27s 1s/step - loss_Decom: 0.0945 - loss_Relight: 0.1819 - val_loss_Decom: 0.1080 - val_loss_Relight: 0.2129\n",
            "Epoch 20/50\n",
            "25/25 [==============================] - 27s 1s/step - loss_Decom: 0.0971 - loss_Relight: 0.1798 - val_loss_Decom: 0.0610 - val_loss_Relight: 0.1776\n",
            "Epoch 21/50\n",
            "25/25 [==============================] - 27s 1s/step - loss_Decom: 0.0926 - loss_Relight: 0.1843 - val_loss_Decom: 0.1031 - val_loss_Relight: 0.2033\n",
            "Epoch 22/50\n",
            "25/25 [==============================] - 27s 1s/step - loss_Decom: 0.0943 - loss_Relight: 0.1784 - val_loss_Decom: 0.0672 - val_loss_Relight: 0.1791\n",
            "Epoch 23/50\n",
            "25/25 [==============================] - 27s 1s/step - loss_Decom: 0.0897 - loss_Relight: 0.1781 - val_loss_Decom: 0.1103 - val_loss_Relight: 0.2027\n",
            "Epoch 24/50\n",
            "25/25 [==============================] - 27s 1s/step - loss_Decom: 0.0989 - loss_Relight: 0.1761 - val_loss_Decom: 0.1072 - val_loss_Relight: 0.1688\n",
            "Epoch 25/50\n",
            "25/25 [==============================] - 27s 1s/step - loss_Decom: 0.0886 - loss_Relight: 0.1754 - val_loss_Decom: 0.0985 - val_loss_Relight: 0.1952\n",
            "Epoch 26/50\n",
            "25/25 [==============================] - 27s 1s/step - loss_Decom: 0.0926 - loss_Relight: 0.1721 - val_loss_Decom: 0.0639 - val_loss_Relight: 0.1752\n",
            "Epoch 27/50\n",
            "25/25 [==============================] - 27s 1s/step - loss_Decom: 0.0881 - loss_Relight: 0.1744 - val_loss_Decom: 0.0970 - val_loss_Relight: 0.1970\n",
            "Epoch 28/50\n",
            "25/25 [==============================] - 27s 1s/step - loss_Decom: 0.0854 - loss_Relight: 0.1720 - val_loss_Decom: 0.1043 - val_loss_Relight: 0.1889\n",
            "Epoch 29/50\n",
            "25/25 [==============================] - 27s 1s/step - loss_Decom: 0.0972 - loss_Relight: 0.1716 - val_loss_Decom: 0.0706 - val_loss_Relight: 0.1670\n",
            "Epoch 30/50\n",
            "25/25 [==============================] - 27s 1s/step - loss_Decom: 0.0847 - loss_Relight: 0.1698 - val_loss_Decom: 0.0972 - val_loss_Relight: 0.1892\n",
            "Epoch 31/50\n",
            "25/25 [==============================] - 28s 1s/step - loss_Decom: 0.0842 - loss_Relight: 0.1658 - val_loss_Decom: 0.0624 - val_loss_Relight: 0.1646\n",
            "Epoch 32/50\n",
            "25/25 [==============================] - 27s 1s/step - loss_Decom: 0.0951 - loss_Relight: 0.1697 - val_loss_Decom: 0.1101 - val_loss_Relight: 0.1946\n",
            "Epoch 33/50\n",
            "25/25 [==============================] - 27s 1s/step - loss_Decom: 0.0846 - loss_Relight: 0.1666 - val_loss_Decom: 0.0585 - val_loss_Relight: 0.1658\n",
            "Epoch 34/50\n",
            "25/25 [==============================] - 27s 1s/step - loss_Decom: 0.0811 - loss_Relight: 0.1686 - val_loss_Decom: 0.1347 - val_loss_Relight: 0.1788\n",
            "Epoch 35/50\n",
            "25/25 [==============================] - 27s 1s/step - loss_Decom: 0.0827 - loss_Relight: 0.1624 - val_loss_Decom: 0.0552 - val_loss_Relight: 0.1654\n",
            "Epoch 36/50\n",
            "25/25 [==============================] - 27s 1s/step - loss_Decom: 0.0834 - loss_Relight: 0.1670 - val_loss_Decom: 0.0986 - val_loss_Relight: 0.1973\n",
            "Epoch 37/50\n",
            "25/25 [==============================] - 27s 1s/step - loss_Decom: 0.0815 - loss_Relight: 0.1646 - val_loss_Decom: 0.0603 - val_loss_Relight: 0.1655\n",
            "Epoch 38/50\n",
            "25/25 [==============================] - 27s 1s/step - loss_Decom: 0.0850 - loss_Relight: 0.1672 - val_loss_Decom: 0.0568 - val_loss_Relight: 0.1630\n",
            "Epoch 39/50\n",
            "25/25 [==============================] - 27s 1s/step - loss_Decom: 0.0773 - loss_Relight: 0.1637 - val_loss_Decom: 0.0911 - val_loss_Relight: 0.1786\n",
            "Epoch 40/50\n",
            "25/25 [==============================] - 27s 1s/step - loss_Decom: 0.0827 - loss_Relight: 0.1657 - val_loss_Decom: 0.0548 - val_loss_Relight: 0.1647\n",
            "Epoch 41/50\n",
            "25/25 [==============================] - 27s 1s/step - loss_Decom: 0.0761 - loss_Relight: 0.1632 - val_loss_Decom: 0.0873 - val_loss_Relight: 0.1759\n",
            "Epoch 42/50\n",
            "25/25 [==============================] - 27s 1s/step - loss_Decom: 0.0784 - loss_Relight: 0.1602 - val_loss_Decom: 0.0958 - val_loss_Relight: 0.1716\n",
            "Epoch 43/50\n",
            "25/25 [==============================] - 27s 1s/step - loss_Decom: 0.0783 - loss_Relight: 0.1597 - val_loss_Decom: 0.0521 - val_loss_Relight: 0.1614\n",
            "Epoch 44/50\n",
            "25/25 [==============================] - 27s 1s/step - loss_Decom: 0.0733 - loss_Relight: 0.1635 - val_loss_Decom: 0.0898 - val_loss_Relight: 0.1794\n",
            "Epoch 45/50\n",
            "25/25 [==============================] - 27s 1s/step - loss_Decom: 0.0774 - loss_Relight: 0.1606 - val_loss_Decom: 0.0914 - val_loss_Relight: 0.1811\n",
            "Epoch 46/50\n",
            "25/25 [==============================] - 28s 1s/step - loss_Decom: 0.0767 - loss_Relight: 0.1557 - val_loss_Decom: 0.0583 - val_loss_Relight: 0.1618\n",
            "Epoch 47/50\n",
            "25/25 [==============================] - 27s 1s/step - loss_Decom: 0.0734 - loss_Relight: 0.1647 - val_loss_Decom: 0.0955 - val_loss_Relight: 0.1771\n",
            "Epoch 48/50\n",
            "25/25 [==============================] - 27s 1s/step - loss_Decom: 0.0753 - loss_Relight: 0.1788 - val_loss_Decom: 0.0719 - val_loss_Relight: 0.1680\n",
            "Epoch 49/50\n",
            "25/25 [==============================] - 27s 1s/step - loss_Decom: 0.0751 - loss_Relight: 0.1591 - val_loss_Decom: 0.0671 - val_loss_Relight: 0.1572\n",
            "Epoch 50/50\n",
            "25/25 [==============================] - 27s 1s/step - loss_Decom: 0.0750 - loss_Relight: 0.1602 - val_loss_Decom: 0.0987 - val_loss_Relight: 0.1734\n"
          ]
        }
      ],
      "source": [
        "# 先分別搭建所需之兩個模型\n",
        "decom_net = DecomNet()\n",
        "relight_net = RelightNet()\n",
        "#再合併到同一模型進行連續訓練\n",
        "retinexNet_model = RetinexNet(decom_net=decom_net, relight_net=relight_net)\n",
        "\n",
        "# 設定為Adam optimizer\n",
        "retinexNet_model.compile(\n",
        "    decom_net_optimizer = keras.optimizers.Adam(learning_rate=2e-4),\n",
        "    relight_net_optimizer = keras.optimizers.Adam(learning_rate=2e-4),\n",
        ")\n",
        "\n",
        "history = retinexNet_model.fit(tf.data.Dataset.zip((train_low_light_dataset, train_high_light_dataset)), \n",
        "                validation_data=tf.data.Dataset.zip((val_low_light_dataset, val_high_light_dataset)), \n",
        "                epochs=50)"
      ]
    },
    {
      "cell_type": "code",
      "source": [
        "def plot_result(item):\n",
        "    plt.plot(history.history[item], label=item)\n",
        "    plt.plot(history.history[\"val_\" + item], label=\"val_\" + item)\n",
        "    plt.xlabel(\"Epochs\")\n",
        "    plt.ylabel(item)\n",
        "    plt.title(\"Train and Validation {} Over Epochs\".format(item), fontsize=14)\n",
        "    plt.legend()\n",
        "    plt.grid()\n",
        "    plt.show()\n",
        "\n",
        "\n",
        "plot_result(\"loss_Decom\")\n",
        "plot_result(\"loss_Relight\")"
      ],
      "metadata": {
        "colab": {
          "base_uri": "https://localhost:8080/",
          "height": 575
        },
        "id": "r47HJKX9Ig6N",
        "outputId": "f89daf70-db76-4c6a-ce09-2d879d50444c"
      },
      "execution_count": null,
      "outputs": [
        {
          "output_type": "display_data",
          "data": {
            "text/plain": [
              "<Figure size 432x288 with 1 Axes>"
            ],
            "image/png": "[encoded data removed]"
          },
          "metadata": {
            "needs_background": "light"
          }
        },
        {
          "output_type": "display_data",
          "data": {
            "text/plain": [
              "<Figure size 432x288 with 1 Axes>"
            ],
            "image/png": "[encoded data removed]"
          },
          "metadata": {
            "needs_background": "light"
          }
        }
      ]
    },
    {
      "cell_type": "markdown",
      "metadata": {
        "id": "e-XmLi7MNTMj"
      },
      "source": [
        "## 預測 (inference)"
      ]
    },
    {
      "cell_type": "code",
      "execution_count": null,
      "metadata": {
        "id": "hkETda31NTMj"
      },
      "outputs": [],
      "source": [
        "#畫出光線增強先後之影像\n",
        "def plot_results(images, titles, figure_size=(12, 12)):\n",
        "    fig = plt.figure(figsize=figure_size)\n",
        "    for i in range(len(images)):\n",
        "        fig.add_subplot(1, len(images), i + 1).set_title(titles[i])\n",
        "        _ = plt.imshow(images[i])\n",
        "        plt.axis(\"off\")\n",
        "    plt.show()\n",
        "\n",
        "# 預測影像並輸出成能夠畫出的格式\n",
        "def infer(original_image):\n",
        "    image = keras.preprocessing.image.img_to_array(original_image)\n",
        "    image = image.astype(\"float32\") / 255.0\n",
        "    image = np.expand_dims(image, axis=0)\n",
        "    output_image = retinexNet_model(image)\n",
        "    output_image = tf.cast((output_image[0, :, :, :] * 255), dtype=np.uint8)\n",
        "    output_image = Image.fromarray(output_image.numpy())\n",
        "    return output_image"
      ]
    },
    {
      "cell_type": "markdown",
      "source": [
        "儲存與載入模型"
      ],
      "metadata": {
        "id": "6vpJs7r1zxoV"
      }
    },
    {
      "cell_type": "code",
      "source": [
        "# https://blog.goodjack.tw/2020/04/create-datetime-with-timezone-via-python3-without-pytz.html\n",
        "from datetime import datetime, timezone, timedelta\n",
        "# 設定為 +8 時區\n",
        "#tz = timezone(timedelta(hours=+8))\n",
        "#now_time = datetime.now(tz).strftime(\"%Y-%m-%d %H:%M:%S\")\n",
        "#retinexNet_model.save_weights(f\"./retinexnet_trained_model/{now_time}/retinexnet_weight_{100}epoch\")\n",
        "\n",
        "#decom_net = DecomNet()\n",
        "#relight_net = RelightNet()\n",
        "#my_retinexNet = RetinexNet(decom_net=decom_net, relight_net=relight_net)\n",
        "#my_retinexNet.load_weights(f\"./retinexnet__trained_model/{now_time}/retinexnet_weight_{100}epoch\")"
      ],
      "metadata": {
        "id": "aw9JpHI5zwhZ"
      },
      "execution_count": null,
      "outputs": []
    },
    {
      "cell_type": "code",
      "source": [
        "# 測試\n",
        "for i in range(len(test_low_light_images)):\n",
        "  raw_image = Image.open(test_low_light_images[i])\n",
        "  raw_image = keras.preprocessing.image.img_to_array(raw_image)\n",
        "  raw_image = raw_image.astype(\"float32\") / 255.0\n",
        "  raw_image_ = np.expand_dims(raw_image, axis=0)\n",
        "\n",
        "  enhanced_image = retinexNet_model(raw_image_)\n",
        "  enhanced_image = tf.cast((enhanced_image[-1][0, :, :, :] * 255), dtype=np.uint8)\n",
        "  enhanced_image = Image.fromarray(enhanced_image.numpy())\n",
        "\n",
        "  real_image = Image.open(test_high_light_images[i])\n",
        "  real_image = keras.preprocessing.image.img_to_array(real_image)\n",
        "  real_image = real_image.astype(\"float32\") / 255.0\n",
        "\n",
        "\n",
        "\n",
        "  plot_results(\n",
        "      [raw_image, real_image, enhanced_image],\n",
        "      [\"Raw\", \"Real\", \"Enhanced\"],\n",
        "      (20, 12),\n",
        "  )"
      ],
      "metadata": {
        "id": "zwmiFikkNZzZ"
      },
      "execution_count": null,
      "outputs": []
    }
  ],
  "metadata": {
    "colab": {
      "collapsed_sections": [
        "BzaiV3u8NTMJ",
        "q61se4T6NTMN",
        "-vd2fVXFNTMi"
      ],
      "name": " Retinex-Net(on LOL).ipynb",
      "provenance": []
    },
    "kernelspec": {
      "display_name": "Python 3",
      "language": "python",
      "name": "python3"
    },
    "language_info": {
      "codemirror_mode": {
        "name": "ipython",
        "version": 3
      },
      "file_extension": ".py",
      "mimetype": "text/x-python",
      "name": "python",
      "nbconvert_exporter": "python",
      "pygments_lexer": "ipython3",
      "version": "3.7.0"
    },
    "accelerator": "GPU"
  },
  "nbformat": 4,
  "nbformat_minor": 0
}